{
 "cells": [
  {
   "cell_type": "code",
   "execution_count": 2,
   "id": "8b044324",
   "metadata": {},
   "outputs": [],
   "source": [
    "import glob\n",
    "from skimage import io\n",
    "import matplotlib.pyplot as plt\n",
    "import cv2\n",
    "import os\n",
    "import tifffile as tiff\n",
    "import numpy as np"
   ]
  },
  {
   "cell_type": "markdown",
   "id": "7ca487db",
   "metadata": {},
   "source": [
    "## 0. Check Image Version"
   ]
  },
  {
   "cell_type": "code",
   "execution_count": null,
   "id": "2f2e512c",
   "metadata": {},
   "outputs": [
    {
     "name": "stdout",
     "output_type": "stream",
     "text": [
      "imagecodecs version: 2021.8.26\n",
      "jpegxl available: True\n"
     ]
    }
   ],
   "source": [
    "import imagecodecs\n",
    "print(\"imagecodecs version:\", imagecodecs.__version__)\n",
    "# Not all wheels expose a helper, but if present:\n",
    "print(\"jpegxl available:\", hasattr(imagecodecs, \"jpegxl_decode\"))"
   ]
  },
  {
   "cell_type": "markdown",
   "id": "d95f5a57",
   "metadata": {},
   "source": [
    "## 1. Test trial with one image"
   ]
  },
  {
   "cell_type": "code",
   "execution_count": 19,
   "id": "ee39398e",
   "metadata": {},
   "outputs": [
    {
     "name": "stdout",
     "output_type": "stream",
     "text": [
      "Saved: ../_images/20MP/20250829_0.5.tif uint16 (4284, 5712, 3)\n"
     ]
    }
   ],
   "source": [
    "src = \"../_images/capillary.dng\"\n",
    "dst = \"../_images/capillary.tif\"\n",
    "\n",
    "arr = tiff.imread(src)  # will use imagecodecs to decode the JXL inside the DNG\n",
    "photometric = \"rgb\" if (arr.ndim == 3 and arr.shape[-1] in (3,4)) else \"minisblack\"\n",
    "\n",
    "tiff.imwrite(dst, arr, compression=None, photometric=photometric)\n",
    "print(\"Saved:\", dst, arr.dtype, arr.shape)"
   ]
  },
  {
   "cell_type": "markdown",
   "id": "d54af163",
   "metadata": {},
   "source": [
    "## 2. Define Image Path"
   ]
  },
  {
   "cell_type": "code",
   "execution_count": 14,
   "id": "cfe8ac3f",
   "metadata": {},
   "outputs": [
    {
     "data": {
      "text/plain": [
       "['../_images/20MP/20250829_0.9.dng',\n",
       " '../_images/20MP/20250829_0.dng',\n",
       " '../_images/20MP/20250829_0.8.dng',\n",
       " '../_images/20MP/20250829_0.6.dng',\n",
       " '../_images/20MP/20250829_0.7.dng',\n",
       " '../_images/20MP/20250829_0.5.dng',\n",
       " '../_images/20MP/20250829_0.4.dng',\n",
       " '../_images/20MP/20250829_0.1.dng',\n",
       " '../_images/20MP/20250829_0.3.dng',\n",
       " '../_images/20MP/20250829_0.2.dng']"
      ]
     },
     "execution_count": 14,
     "metadata": {},
     "output_type": "execute_result"
    }
   ],
   "source": [
    "images_20MP = (glob.glob('../_images/20MP/*.dng'))\n",
    "images_200MP = (glob.glob('../_images/200MP/*.dng'))\n",
    "images_20 = [p for p in images_20MP]\n",
    "images_200 = [p for p in images_200MP]\n",
    "images_20MP"
   ]
  },
  {
   "cell_type": "markdown",
   "id": "e7d39e6c",
   "metadata": {},
   "source": [
    "## 3. Define Function to Convert to TIFF"
   ]
  },
  {
   "cell_type": "code",
   "execution_count": 3,
   "id": "dda3fd50",
   "metadata": {},
   "outputs": [],
   "source": [
    "def convert_dng_to_tiff(dng, jpg):\n",
    "    arr = tiff.imread(dng) \n",
    "    photometric = \"rgb\" if (arr.ndim == 3 and arr.shape[-1] in (3,4)) else \"minisblack\"\n",
    "\n",
    "    tiff.imwrite(jpg, arr, compression=None, photometric=photometric)\n",
    "    print(\"Saved:\", jpg, arr.dtype, arr.shape)\n"
   ]
  },
  {
   "cell_type": "markdown",
   "id": "d4b51eb2",
   "metadata": {},
   "source": [
    "## 4. Run Loop for Each .DNG Folder"
   ]
  },
  {
   "cell_type": "code",
   "execution_count": 15,
   "id": "146d1f38",
   "metadata": {},
   "outputs": [
    {
     "name": "stdout",
     "output_type": "stream",
     "text": [
      "Saved: ../_images/20MP_tiff/20250829_0.9.tif uint16 (4284, 5712, 3)\n",
      "Saved: ../_images/20MP_tiff/20250829_0.tif uint16 (4284, 5712, 3)\n",
      "Saved: ../_images/20MP_tiff/20250829_0.8.tif uint16 (4284, 5712, 3)\n",
      "Saved: ../_images/20MP_tiff/20250829_0.6.tif uint16 (4284, 5712, 3)\n",
      "Saved: ../_images/20MP_tiff/20250829_0.7.tif uint16 (4284, 5712, 3)\n",
      "Saved: ../_images/20MP_tiff/20250829_0.5.tif uint16 (4284, 5712, 3)\n",
      "Saved: ../_images/20MP_tiff/20250829_0.4.tif uint16 (4284, 5712, 3)\n",
      "Saved: ../_images/20MP_tiff/20250829_0.1.tif uint16 (4284, 5712, 3)\n",
      "Saved: ../_images/20MP_tiff/20250829_0.3.tif uint16 (4284, 5712, 3)\n",
      "Saved: ../_images/20MP_tiff/20250829_0.2.tif uint16 (4284, 5712, 3)\n"
     ]
    }
   ],
   "source": [
    "## 24MP Camera Images\n",
    "for p in images_20:\n",
    "    out_path = p.replace('../_images/20MP', '../_images/20MP_tiff').replace('.dng', '.tif')\n",
    "    os.makedirs(os.path.dirname(out_path), exist_ok=True)\n",
    "    convert_dng_to_tiff(p, out_path)"
   ]
  },
  {
   "cell_type": "code",
   "execution_count": 12,
   "id": "cd885c05",
   "metadata": {},
   "outputs": [
    {
     "name": "stdout",
     "output_type": "stream",
     "text": [
      "Saved: ../_images/200MP_tiff/20250829_001406.tif uint16 (12240, 16320, 3)\n",
      "Saved: ../_images/200MP_tiff/20250829_001413.tif uint16 (12240, 16320, 3)\n",
      "Saved: ../_images/200MP_tiff/20250829_001500.tif uint16 (12240, 16320, 3)\n",
      "Saved: ../_images/200MP_tiff/20250829_001448.tif uint16 (12240, 16320, 3)\n",
      "Saved: ../_images/200MP_tiff/20250829_001442.tif uint16 (12240, 16320, 3)\n",
      "Saved: ../_images/200MP_tiff/20250829_001454.tif uint16 (12240, 16320, 3)\n",
      "Saved: ../_images/200MP_tiff/20250829_001430.tif uint16 (12240, 16320, 3)\n",
      "Saved: ../_images/200MP_tiff/20250829_001419.tif uint16 (12240, 16320, 3)\n",
      "Saved: ../_images/200MP_tiff/20250829_001425.tif uint16 (12240, 16320, 3)\n",
      "Saved: ../_images/200MP_tiff/20250829_001436.tif uint16 (12240, 16320, 3)\n"
     ]
    }
   ],
   "source": [
    "for p in images_200:\n",
    "    out_path = p.replace('../_images/200MP', '../_images/200MP_tiff').replace('.dng', '.tif')\n",
    "    os.makedirs(os.path.dirname(out_path), exist_ok=True)\n",
    "    convert_dng_to_tiff(p, out_path)"
   ]
  },
  {
   "cell_type": "code",
   "execution_count": 4,
   "id": "7fa57b75",
   "metadata": {},
   "outputs": [
    {
     "name": "stdout",
     "output_type": "stream",
     "text": [
      "Saved: ../_images/08-30_tiff/20250830_022152.tif uint16 (12240, 16320, 3)\n",
      "Saved: ../_images/08-30_tiff/20250830_022147.tif uint16 (12240, 16320, 3)\n",
      "Saved: ../_images/08-30_tiff/20250830_022050.tif uint16 (12240, 16320, 3)\n",
      "Saved: ../_images/08-30_tiff/20250830_022245.tif uint16 (12240, 16320, 3)\n",
      "Saved: ../_images/08-30_tiff/20250830_022254.tif uint16 (12240, 16320, 3)\n",
      "Saved: ../_images/08-30_tiff/20250830_022308.tif uint16 (12240, 16320, 3)\n",
      "Saved: ../_images/08-30_tiff/20250830_022110.tif uint16 (12240, 16320, 3)\n",
      "Saved: ../_images/08-30_tiff/20250830_022104.tif uint16 (12240, 16320, 3)\n",
      "Saved: ../_images/08-30_tiff/20250829_0.5.tif uint16 (4284, 5712, 3)\n",
      "Saved: ../_images/08-30_tiff/20250830_022315.tif uint16 (12240, 16320, 3)\n",
      "Saved: ../_images/08-30_tiff/20250830_022203.tif uint16 (12240, 16320, 3)\n",
      "Saved: ../_images/08-30_tiff/20250830_022229.tif uint16 (12240, 16320, 3)\n",
      "Saved: ../_images/09-03-Nafisa_tiff/20250903_020704.tif uint16 (12240, 16320, 3)\n",
      "Saved: ../_images/09-03-Nafisa_tiff/20250903_020506.tif uint16 (12240, 16320, 3)\n",
      "Saved: ../_images/09-03-Nafisa_tiff/20250903_020211.tif uint16 (12240, 16320, 3)\n",
      "Saved: ../_images/09-03-Nafisa_tiff/20250903_020612.tif uint16 (12240, 16320, 3)\n",
      "Saved: ../_images/09-03-Nafisa_tiff/20250903_020404.tif uint16 (12240, 16320, 3)\n",
      "Saved: ../_images/09-03-Nafisa_tiff/20250903_020520.tif uint16 (12240, 16320, 3)\n",
      "Saved: ../_images/09-03-Nafisa_tiff/20250903_020737.tif uint16 (12240, 16320, 3)\n",
      "Saved: ../_images/09-03-Nafisa_tiff/20250903_020457.tif uint16 (12240, 16320, 3)\n",
      "Saved: ../_images/09-03-Nafisa_tiff/20250903_020254.tif uint16 (12240, 16320, 3)\n"
     ]
    }
   ],
   "source": [
    "images_830_folder = (glob.glob('../_images/08-30/*.dng'))\n",
    "images_903_folder = (glob.glob('../_images/09-03-Nafisa/*.dng'))\n",
    "images_830 = [p for p in images_830_folder]\n",
    "images_903 = [p for p in images_903_folder]\n",
    "\n",
    "for p in images_830:\n",
    "    out_path = p.replace('../_images/08-30', '../_images/08-30_tiff').replace('.dng', '.tif')\n",
    "    os.makedirs(os.path.dirname(out_path), exist_ok=True)\n",
    "    convert_dng_to_tiff(p, out_path)\n",
    "\n",
    "for p in images_903:\n",
    "    out_path = p.replace('../_images/09-03-Nafisa', '../_images/09-03-Nafisa_tiff').replace('.dng', '.tif')\n",
    "    os.makedirs(os.path.dirname(out_path), exist_ok=True)\n",
    "    convert_dng_to_tiff(p, out_path)"
   ]
  },
  {
   "cell_type": "code",
   "execution_count": null,
   "id": "8ec55d1d",
   "metadata": {},
   "outputs": [],
   "source": []
  }
 ],
 "metadata": {
  "kernelspec": {
   "display_name": "imaging",
   "language": "python",
   "name": "python3"
  },
  "language_info": {
   "codemirror_mode": {
    "name": "ipython",
    "version": 3
   },
   "file_extension": ".py",
   "mimetype": "text/x-python",
   "name": "python",
   "nbconvert_exporter": "python",
   "pygments_lexer": "ipython3",
   "version": "3.11.13"
  }
 },
 "nbformat": 4,
 "nbformat_minor": 5
}
