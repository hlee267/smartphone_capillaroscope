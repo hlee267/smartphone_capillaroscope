{
 "cells": [
  {
   "cell_type": "code",
   "execution_count": 20,
   "id": "dceaca49",
   "metadata": {},
   "outputs": [],
   "source": [
    "import glob\n",
    "import os\n",
    "from scipy.io import loadmat\n",
    "import pandas as pd"
   ]
  },
  {
   "cell_type": "code",
   "execution_count": 29,
   "id": "782bfce1",
   "metadata": {},
   "outputs": [
    {
     "name": "stderr",
     "output_type": "stream",
     "text": [
      "/var/folders/2y/v4w1xw5501g8rb1qrxtmtjj80000gn/T/ipykernel_12999/2795572132.py:17: DeprecationWarning: Conversion of an array with ndim > 0 to a scalar is deprecated, and will error in future. Ensure you extract a single element from your array before performing this operation. (Deprecated NumPy 1.25.)\n",
      "  'res_smoothed_μm': float(data['Resolution_smoothed']) * 1e3,\n",
      "/var/folders/2y/v4w1xw5501g8rb1qrxtmtjj80000gn/T/ipykernel_12999/2795572132.py:18: DeprecationWarning: Conversion of an array with ndim > 0 to a scalar is deprecated, and will error in future. Ensure you extract a single element from your array before performing this operation. (Deprecated NumPy 1.25.)\n",
      "  'res_fit_μm':       float(data['Resolution_fit'])      * 1e3,\n",
      "/var/folders/2y/v4w1xw5501g8rb1qrxtmtjj80000gn/T/ipykernel_12999/2795572132.py:19: DeprecationWarning: Conversion of an array with ndim > 0 to a scalar is deprecated, and will error in future. Ensure you extract a single element from your array before performing this operation. (Deprecated NumPy 1.25.)\n",
      "  'res_raw_μm':       float(data['Resolution_raw'])      * 1e3\n"
     ]
    },
    {
     "data": {
      "text/html": [
       "<div>\n",
       "<style scoped>\n",
       "    .dataframe tbody tr th:only-of-type {\n",
       "        vertical-align: middle;\n",
       "    }\n",
       "\n",
       "    .dataframe tbody tr th {\n",
       "        vertical-align: top;\n",
       "    }\n",
       "\n",
       "    .dataframe thead th {\n",
       "        text-align: right;\n",
       "    }\n",
       "</style>\n",
       "<table border=\"1\" class=\"dataframe\">\n",
       "  <thead>\n",
       "    <tr style=\"text-align: right;\">\n",
       "      <th></th>\n",
       "      <th>file</th>\n",
       "      <th>res_smoothed_μm</th>\n",
       "      <th>res_fit_μm</th>\n",
       "      <th>res_raw_μm</th>\n",
       "    </tr>\n",
       "  </thead>\n",
       "  <tbody>\n",
       "    <tr>\n",
       "      <th>0</th>\n",
       "      <td>3.tif_MTFresults.mat</td>\n",
       "      <td>0.060404</td>\n",
       "      <td>0.067894</td>\n",
       "      <td>0.053783</td>\n",
       "    </tr>\n",
       "    <tr>\n",
       "      <th>1</th>\n",
       "      <td>1.tif_MTFresults.mat</td>\n",
       "      <td>0.066690</td>\n",
       "      <td>0.261039</td>\n",
       "      <td>0.065040</td>\n",
       "    </tr>\n",
       "    <tr>\n",
       "      <th>2</th>\n",
       "      <td>2.tif_MTFresults.mat</td>\n",
       "      <td>0.072121</td>\n",
       "      <td>0.091988</td>\n",
       "      <td>0.067796</td>\n",
       "    </tr>\n",
       "  </tbody>\n",
       "</table>\n",
       "</div>"
      ],
      "text/plain": [
       "                   file  res_smoothed_μm  res_fit_μm  res_raw_μm\n",
       "0  3.tif_MTFresults.mat         0.060404    0.067894    0.053783\n",
       "1  1.tif_MTFresults.mat         0.066690    0.261039    0.065040\n",
       "2  2.tif_MTFresults.mat         0.072121    0.091988    0.067796"
      ]
     },
     "execution_count": 29,
     "metadata": {},
     "output_type": "execute_result"
    }
   ],
   "source": [
    "# 1) Imports\n",
    "import glob\n",
    "import os\n",
    "from scipy.io import loadmat\n",
    "import numpy as np\n",
    "import matplotlib.pyplot as plt\n",
    "\n",
    "# 2) Point to the folder where your .mat files live\n",
    "mat_folder = 'images_0625/0'   # ← change this\n",
    "mat_paths  = glob.glob(os.path.join(mat_folder, '*_MTFresults.mat'))\n",
    "\n",
    "records = []\n",
    "for mat_path in mat_paths:\n",
    "    data = loadmat(mat_path)\n",
    "    records.append({\n",
    "        'file': os.path.basename(mat_path),\n",
    "        'res_smoothed_μm': float(data['Resolution_smoothed']) * 1e3,\n",
    "        'res_fit_μm':       float(data['Resolution_fit'])      * 1e3,\n",
    "        'res_raw_μm':       float(data['Resolution_raw'])      * 1e3\n",
    "    })\n",
    "\n",
    "# 3) Create DataFrame and display\n",
    "df = pd.DataFrame(records)\n",
    "df"
   ]
  },
  {
   "cell_type": "code",
   "execution_count": null,
   "id": "bb8edda4",
   "metadata": {},
   "outputs": [],
   "source": []
  }
 ],
 "metadata": {
  "kernelspec": {
   "display_name": "base",
   "language": "python",
   "name": "python3"
  },
  "language_info": {
   "codemirror_mode": {
    "name": "ipython",
    "version": 3
   },
   "file_extension": ".py",
   "mimetype": "text/x-python",
   "name": "python",
   "nbconvert_exporter": "python",
   "pygments_lexer": "ipython3",
   "version": "3.11.4"
  }
 },
 "nbformat": 4,
 "nbformat_minor": 5
}
